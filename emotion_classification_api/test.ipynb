{
 "cells": [
  {
   "cell_type": "code",
   "execution_count": 3,
   "id": "2db44bb3-180f-4d57-9324-6cabcaf7d7a1",
   "metadata": {},
   "outputs": [
    {
     "name": "stdout",
     "output_type": "stream",
     "text": [
      "현재 작업 디렉토리: C:\\Users\\qsoqs\\Desktop\\model_API\\bamboo\\emotion_classification_api\n",
      "모델 디렉토리에 필요한 모든 파일이 존재합니다.\n"
     ]
    }
   ],
   "source": [
    "import os\n",
    "\n",
    "def check_model_files(model_dir):\n",
    "    \"\"\"\n",
    "    지정한 모델 디렉토리에 필요한 파일들이 모두 존재하는지 확인하는 함수.\n",
    "\n",
    "    Parameters:\n",
    "    - model_dir (str): 모델이 저장된 디렉토리 경로\n",
    "\n",
    "    Returns:\n",
    "    - None\n",
    "    \"\"\"\n",
    "    # 현재 작업 디렉토리 출력 (상대 경로 문제 확인용)\n",
    "    print(f\"현재 작업 디렉토리: {os.getcwd()}\")\n",
    "\n",
    "    # 필요한 파일 목록 정의\n",
    "    required_files = [\n",
    "        'config.json',\n",
    "        'model.safetensors',\n",
    "        'special_tokens_map.json',\n",
    "        'tokenizer.json',\n",
    "        'tokenizer_config.json'\n",
    "    ]\n",
    "\n",
    "    # 누락된 파일을 저장할 리스트\n",
    "    missing_files = []\n",
    "\n",
    "    # 각 파일의 존재 여부 확인\n",
    "    for file in required_files:\n",
    "        file_path = os.path.join(model_dir, file)\n",
    "        if not os.path.isfile(file_path):\n",
    "            missing_files.append(file)\n",
    "\n",
    "    # 결과 출력\n",
    "    if missing_files:\n",
    "        print(\"모델 디렉토리에 다음 파일들이 누락되었습니다:\")\n",
    "        for file in missing_files:\n",
    "            print(f\" - {file}\")\n",
    "    else:\n",
    "        print(\"모델 디렉토리에 필요한 모든 파일이 존재합니다.\")\n",
    "\n",
    "if __name__ == \"__main__\":\n",
    "    # 모델 디렉토리 경로 설정\n",
    "    # 상대 경로 사용 예시: 현재 스크립트가 있는 디렉토리를 기준으로\n",
    "    model_dir = \"emotion_classification_model\"  # 실제 모델 디렉토리로 수정하세요\n",
    "\n",
    "    # 또는 절대 경로 사용 예시 (Windows)\n",
    "    # model_dir = r\"C:\\Users\\qsoqs\\Desktop\\emotion_classification_model\"\n",
    "\n",
    "    # 모델 디렉토리 존재 여부 확인\n",
    "    if not os.path.exists(model_dir):\n",
    "        print(f\"지정한 모델 디렉토리 '{model_dir}'가 존재하지 않습니다. 경로를 확인해주세요.\")\n",
    "    else:\n",
    "        # 파일 존재 여부 검사 함수 호출\n",
    "        check_model_files(model_dir)\n"
   ]
  },
  {
   "cell_type": "code",
   "execution_count": null,
   "id": "e4b8b0db-a398-4730-b064-29bba7ad30f4",
   "metadata": {},
   "outputs": [],
   "source": []
  }
 ],
 "metadata": {
  "kernelspec": {
   "display_name": "Python 3 (ipykernel)",
   "language": "python",
   "name": "python3"
  },
  "language_info": {
   "codemirror_mode": {
    "name": "ipython",
    "version": 3
   },
   "file_extension": ".py",
   "mimetype": "text/x-python",
   "name": "python",
   "nbconvert_exporter": "python",
   "pygments_lexer": "ipython3",
   "version": "3.9.19"
  }
 },
 "nbformat": 4,
 "nbformat_minor": 5
}
